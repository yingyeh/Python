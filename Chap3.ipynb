{
 "cells": [
  {
   "cell_type": "markdown",
   "metadata": {},
   "source": [
    "## 流程控制"
   ]
  },
  {
   "cell_type": "markdown",
   "metadata": {},
   "source": [
    "## if else"
   ]
  },
  {
   "cell_type": "code",
   "execution_count": 1,
   "metadata": {},
   "outputs": [
    {
     "name": "stdout",
     "output_type": "stream",
     "text": [
      "b是比較大數值\n"
     ]
    }
   ],
   "source": [
    "a = 3\n",
    "b = 4\n",
    "if a <= b: ## 在python內的 : 就等同於是 其他程式的{}\n",
    "    print(\"b是比較大數值\")\n",
    "    ##else:(錯誤示範， else的位置必須對齊if否則程式編譯不會通過)\n",
    "else:\n",
    "    print(\"a是比較大的數\")"
   ]
  },
  {
   "cell_type": "markdown",
   "metadata": {},
   "source": [
    "## for 迴圈"
   ]
  },
  {
   "cell_type": "code",
   "execution_count": 2,
   "metadata": {},
   "outputs": [
    {
     "name": "stdout",
     "output_type": "stream",
     "text": [
      "55\n"
     ]
    }
   ],
   "source": [
    "sum = 0\n",
    "for count in range(1,11,1): ##前面的1,11是指說他的範圍只有1~10不包含11， 然而最後一個1是step1\n",
    "    sum += count\n",
    "print(sum)"
   ]
  },
  {
   "cell_type": "code",
   "execution_count": 3,
   "metadata": {},
   "outputs": [
    {
     "name": "stdout",
     "output_type": "stream",
     "text": [
      "55\n"
     ]
    }
   ],
   "source": [
    "sum = 0\n",
    "for count in range(1,11): \n",
    "    sum += count\n",
    "print(sum)"
   ]
  },
  {
   "cell_type": "code",
   "execution_count": 4,
   "metadata": {},
   "outputs": [
    {
     "name": "stdout",
     "output_type": "stream",
     "text": [
      "55\n"
     ]
    }
   ],
   "source": [
    "sum = 0\n",
    "for count in range(11): \n",
    "    sum += count\n",
    "print(sum)"
   ]
  },
  {
   "cell_type": "code",
   "execution_count": 5,
   "metadata": {},
   "outputs": [
    {
     "name": "stdout",
     "output_type": "stream",
     "text": [
      "f\n",
      "o\n",
      "r\n",
      " \n",
      "s\n",
      "t\n",
      "a\n",
      "t\n",
      "e\n",
      "m\n",
      "e\n",
      "n\n",
      "t\n",
      "end list\n"
     ]
    }
   ],
   "source": [
    "mylist = \"for statement\"\n",
    "for word in mylist:\n",
    "    print(word)\n",
    "else:\n",
    "    print(\"end list\")"
   ]
  },
  {
   "cell_type": "markdown",
   "metadata": {},
   "source": [
    "## 雞兔同籠 假設一個農場雞兔共有35頭，94隻腳，請問共有幾隻雞，幾隻兔?"
   ]
  },
  {
   "cell_type": "code",
   "execution_count": 11,
   "metadata": {},
   "outputs": [
    {
     "name": "stdout",
     "output_type": "stream",
     "text": [
      "雞有 23 隻, 兔子有 12 隻\n"
     ]
    }
   ],
   "source": [
    "for chicken in range(0,35):\n",
    "    rabbit = 35 - chicken\n",
    "    if (2*chicken+4*rabbit)==94:\n",
    "        print(\"雞有\",chicken,\"隻, 兔子有\",rabbit,\"隻\")\n",
    "        break\n",
    "else:\n",
    "    print(\"無解\")"
   ]
  },
  {
   "cell_type": "markdown",
   "metadata": {},
   "source": [
    "## While 迴圈"
   ]
  },
  {
   "cell_type": "code",
   "execution_count": 13,
   "metadata": {},
   "outputs": [
    {
     "name": "stdout",
     "output_type": "stream",
     "text": [
      "1+2+3+...+10= 55\n"
     ]
    }
   ],
   "source": [
    "sum = 0\n",
    "count = 1\n",
    "while count <= 10:\n",
    "    sum = sum +count\n",
    "    count = count + 1\n",
    "print(\"1+2+3+...+10=\",sum)"
   ]
  },
  {
   "cell_type": "markdown",
   "metadata": {},
   "source": [
    "## 本金10000元，年利率1%，請問多久銀行存款會加倍 "
   ]
  },
  {
   "cell_type": "code",
   "execution_count": 2,
   "metadata": {},
   "outputs": [
    {
     "name": "stdout",
     "output_type": "stream",
     "text": [
      "70 年以後，存款加倍，為 20067 元\n"
     ]
    }
   ],
   "source": [
    "x=10000\n",
    "year=0\n",
    "while x <=20000:   ##當本金小於20000元\n",
    "    year += 1      ##年限+1\n",
    "    x=x*1.01       ##本金加上1%的利率\n",
    "print(str(year),\"年以後，存款加倍，為\",int(x),\"元\")"
   ]
  },
  {
   "cell_type": "markdown",
   "metadata": {},
   "source": [
    "## 猜數字"
   ]
  },
  {
   "cell_type": "code",
   "execution_count": 5,
   "metadata": {},
   "outputs": [
    {
     "name": "stdout",
     "output_type": "stream",
     "text": [
      "請輸入1~100之間的數字:32\n",
      "猜錯了\n",
      "請輸入1~100之間的數字:54\n",
      "猜錯了\n",
      "請輸入1~100之間的數字:11\n",
      "你猜對了，數字是: 11\n"
     ]
    }
   ],
   "source": [
    "number = 11\n",
    "while True:\n",
    "    guess=int(input(\"請輸入1~100之間的數字:\"))\n",
    "    if guess == number:\n",
    "        print(\"你猜對了，數字是:\",number)\n",
    "        break\n",
    "    else:\n",
    "        print(\"猜錯了\")"
   ]
  },
  {
   "cell_type": "code",
   "execution_count": null,
   "metadata": {},
   "outputs": [],
   "source": []
  }
 ],
 "metadata": {
  "kernelspec": {
   "display_name": "Python 3",
   "language": "python",
   "name": "python3"
  },
  "language_info": {
   "codemirror_mode": {
    "name": "ipython",
    "version": 3
   },
   "file_extension": ".py",
   "mimetype": "text/x-python",
   "name": "python",
   "nbconvert_exporter": "python",
   "pygments_lexer": "ipython3",
   "version": "3.7.4"
  }
 },
 "nbformat": 4,
 "nbformat_minor": 2
}
